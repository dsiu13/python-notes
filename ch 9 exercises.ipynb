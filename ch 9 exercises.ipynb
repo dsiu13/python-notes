{
 "cells": [
  {
   "cell_type": "code",
   "execution_count": null,
   "metadata": {},
   "outputs": [],
   "source": [
    "class Restaurant():\n",
    "\n",
    "  def __init__(self, restaurant_name, cuisine_type):\n",
    "    self.restaurant_name = restaurant_name\n",
    "    self.cuisine_type = cuisine_type\n",
    "\n",
    "  def describe_restaurant(self):\n",
    "    print(\"we are \" + self.restaurant_name + \" specializing in \" + self.cuisine_type + \" food\")\n",
    "\n",
    "  def open_restaurant(self):\n",
    "    print(self.restaurant_name + \" is now open\")\n",
    "\n",
    "my_restaurant = Restaurant('Taco Town', 'Mexican')\n",
    "my_restaurant.describe_restaurant()\n",
    "my_restaurant.open_restaurant()"
   ]
  },
  {
   "cell_type": "code",
   "execution_count": null,
   "metadata": {},
   "outputs": [],
   "source": [
    "class Restaurant():\n",
    "\n",
    "  def __init__(self, restaurant_name, cuisine_type):\n",
    "    self.restaurant_name = restaurant_name\n",
    "    self.cuisine_type = cuisine_type\n",
    "\n",
    "  def describe_restaurant(self):\n",
    "    print(\"we are \" + self.restaurant_name + \" specializing in \" + self.cuisine_type + \" food\")\n",
    "\n",
    "  def open_restaurant(self):\n",
    "    print(self.restaurant_name + \" is now open\")\n",
    "\n",
    "taco_town = Restaurant('Taco Town', 'Mexican')\n",
    "dumpling_house = Restaurant('Dumpling House', 'Chinese')\n",
    "garden_fresh = Restaurant('Garden Fresh', 'Vegan')\n",
    "\n",
    "taco_town.describe_restaurant()\n",
    "dumpling_house.describe_restaurant()\n",
    "garden_fresh.describe_restaurant()"
   ]
  },
  {
   "cell_type": "code",
   "execution_count": null,
   "metadata": {},
   "outputs": [],
   "source": [
    "class Users():\n",
    "  def __init__(self, first_name, last_name, username):\n",
    "    self.first_name = first_name\n",
    "    self.last_name = last_name\n",
    "    self.username = username\n",
    "\n",
    "  def user_summary(self):\n",
    "    print(self.first_name + \" \" + self.last_name + \" , username:\" + self.username)\n",
    "\n",
    "  def greet_user(self):\n",
    "    print('Hello ' + self.first_name + \"!\")\n",
    "\n",
    "jeff = Users('Jeff', 'Winger', \"wingman\")\n",
    "jeff.user_summary()\n",
    "jeff.greet_user()\n",
    "\n",
    "annie = Users('Annie', 'Eddison', 'aeddison')\n",
    "annie.user_summary()\n",
    "annie.greet_user() "
   ]
  },
  {
   "cell_type": "code",
   "execution_count": null,
   "metadata": {},
   "outputs": [],
   "source": [
    "class Car():\n",
    "  def __init__(self, make, model, year):\n",
    "    self.make = make\n",
    "    self.model = model\n",
    "    self.year = year\n",
    "    self.odometer_reading = 0\n",
    "\n",
    "  def get_descript(self):\n",
    "    return str(self.year) + ' ' + self.make + ' ' + self.model\n",
    "\n",
    "  def read_odometer(self):\n",
    "    print(\"This car has \" + str(self.odometer_reading) + \" miles on it.\") \n",
    "\n",
    "my_new_car = Car('audi', 'a4', 2016) \n",
    "print(my_new_car.get_descript())\n",
    "my_new_car.read_odometer()"
   ]
  },
  {
   "cell_type": "code",
   "execution_count": null,
   "metadata": {},
   "outputs": [],
   "source": [
    "class Restaurant():\n",
    "\n",
    "  def __init__(self, restaurant_name, cuisine_type):\n",
    "    self.restaurant_name = restaurant_name\n",
    "    self.cuisine_type = cuisine_type\n",
    "    self.customers_served = 0\n",
    "\n",
    "  def describe_restaurant(self):\n",
    "    print(\"we are \" + self.restaurant_name + \" specializing in \" + self.cuisine_type + \" food\")\n",
    "\n",
    "  def open_restaurant(self):\n",
    "    print(self.restaurant_name + \" is now open\")\n",
    "\n",
    "  def update_served(self, served):\n",
    "    self.customers_served = served\n",
    "\n",
    "  def restaurant_stats(self):\n",
    "    print(str(self.customers_served))\n",
    "\n",
    "  def increment_served(self, customers):\n",
    "    self.customers_served += customers\n",
    "    \n",
    "my_restaurant = Restaurant('Garden Fresh', 'Vegan')\n",
    "my_restaurant.customers_served = 5\n",
    "my_restaurant.increment_served(3)\n",
    "my_restaurant.restaurant_stats()"
   ]
  },
  {
   "cell_type": "code",
   "execution_count": 10,
   "metadata": {},
   "outputs": [
    {
     "data": {
      "text/plain": [
       "'2016 Tesla model s'"
      ]
     },
     "execution_count": 10,
     "metadata": {},
     "output_type": "execute_result"
    }
   ],
   "source": [
    "class Car():\n",
    "\n",
    "  def __init__(self, make, model, year):\n",
    "    self.make = make\n",
    "    self.model = model\n",
    "    self.year = year\n",
    "    self.odometer_reading = 0\n",
    "\n",
    "  def get_descriptive_name(self):\n",
    "    return str(self.year) + ' ' + self.make + ' ' + self.model\n",
    "\n",
    "  def read_odometer(self):\n",
    "    print(str(self.odometer_reading))\n",
    "\n",
    "  def update_odometer(self, mileage):\n",
    "    if milage >= self.odometer_reading:\n",
    "      self.odometer_reading = mileage\n",
    "    else:\n",
    "      print('nope')\n",
    "\n",
    "\n",
    "  def increment_odometer(self, miles):\n",
    "      self.odometer_reading += miles\n",
    "\n",
    "class ElectricCar(Car):\n",
    "\n",
    "  def __init__(self, make, model, year):\n",
    "    super().__init__(make, model, year)\n",
    "\n",
    "my_telsa = ElectricCar('Tesla', 'model s', 2016)\n",
    "my_telsa.get_descriptive_name()"
   ]
  },
  {
   "cell_type": "code",
   "execution_count": 5,
   "metadata": {},
   "outputs": [
    {
     "name": "stdout",
     "output_type": "stream",
     "text": [
      "we are iScream specializing in Ice Cream food\n"
     ]
    }
   ],
   "source": [
    "class Restaurant():\n",
    "\n",
    "  def __init__(self, restaurant_name, cuisine_type):\n",
    "    self.restaurant_name = restaurant_name\n",
    "    self.cuisine_type = cuisine_type\n",
    "    self.customers_served = 0\n",
    "\n",
    "  def describe_restaurant(self):\n",
    "    print(\"we are \" + self.restaurant_name + \" specializing in \" + self.cuisine_type + \" food\")\n",
    "\n",
    "  def open_restaurant(self):\n",
    "    print(self.restaurant_name + \" is now open\")\n",
    "\n",
    "  def update_served(self, served):\n",
    "    self.customers_served = served\n",
    "\n",
    "  def restaurant_stats(self):\n",
    "    print(str(self.customers_served))\n",
    "\n",
    "  def increment_served(self, customers):\n",
    "    self.customers_served += customers\n",
    "\n",
    "class iceCreamStand(Restaurant):\n",
    "  pass\n",
    "\n",
    "my_iceCream = iceCreamStand('iScream', 'Ice Cream')\n",
    "my_iceCream.describe_restaurant()\n"
   ]
  },
  {
   "cell_type": "code",
   "execution_count": 3,
   "metadata": {},
   "outputs": [
    {
     "name": "stdout",
     "output_type": "stream",
     "text": [
      "Just Keep Swimming\n",
      "Backstroke\n"
     ]
    }
   ],
   "source": [
    "class Fish:\n",
    "    def __init__(self, first_name, last_name=\"Fish\",\n",
    "                 skeleton=\"bone\", eyelids=False):\n",
    "        self.first_name = first_name\n",
    "        self.last_name = last_name\n",
    "        self.skeleton = skeleton\n",
    "        self.eyelids = eyelids\n",
    "\n",
    "    def swim(self):\n",
    "        print('Just Keep Swimming')\n",
    "\n",
    "    def swim_backwards(self):\n",
    "        print('Backstroke')\n",
    "\n",
    "class Trout(Fish):\n",
    "    pass\n",
    "\n",
    "terry = Trout(\"Terry\")\n",
    "terry.swim()\n",
    "terry.swim_backwards()"
   ]
  },
  {
   "cell_type": "code",
   "execution_count": 13,
   "metadata": {},
   "outputs": [
    {
     "name": "stdout",
     "output_type": "stream",
     "text": [
      "ban del post\n"
     ]
    }
   ],
   "source": [
    "class Users():\n",
    "  def __init__(self, first_name, last_name, username):\n",
    "    self.first_name = first_name\n",
    "    self.last_name = last_name\n",
    "    self.username = username\n",
    "\n",
    "  def greet_user(self):\n",
    "    print('Hello ' + self.first_name + \"!\")\n",
    "\n",
    "class SuperUser(Users):\n",
    "  def admin_powers(self): \n",
    "    print('ban', 'del', 'post')\n",
    "\n",
    "admin_user = SuperUser('jeff', 'winger', 'wingman')\n",
    "admin_user.admin_powers()\n"
   ]
  },
  {
   "cell_type": "code",
   "execution_count": 6,
   "metadata": {},
   "outputs": [
    {
     "name": "stdout",
     "output_type": "stream",
     "text": [
      "Casey Fish\n"
     ]
    }
   ],
   "source": [
    "class Clownfish(Fish):\n",
    "\n",
    "    def live_with_anemone(self):\n",
    "        print(\"The clownfish is coexisting with sea anemone.\")\n",
    "\n",
    "casey = Clownfish(\"Casey\")\n",
    "print(casey.first_name + \" \" + casey.last_name)"
   ]
  },
  {
   "cell_type": "code",
   "execution_count": 19,
   "metadata": {},
   "outputs": [
    {
     "name": "stdout",
     "output_type": "stream",
     "text": [
      "<__main__.Trout object at 0x10fb4d2b0>\n",
      "False\n"
     ]
    }
   ],
   "source": [
    "class Fish:\n",
    "    def __init__(self, first_name, last_name=\"Fish\",\n",
    "                 skeleton=\"bone\", eyelids=False):\n",
    "        self.first_name = first_name\n",
    "        self.last_name = last_name\n",
    "        self.skeleton = skeleton\n",
    "        self.eyelids = eyelids\n",
    "\n",
    "    def swim(self):\n",
    "        print('Just Keep Swimming')\n",
    "\n",
    "    def swim_backwards(self):\n",
    "        print('Backstroke')\n",
    "\n",
    "class Trout(Fish):\n",
    "    def __init__(self, water = \"freshwater\"):\n",
    "        self.water = water\n",
    "        super().__init__(self)\n",
    "\n",
    "terry = Trout(\"terry\")\n",
    "print(terry.eyelids)"
   ]
  },
  {
   "cell_type": "code",
   "execution_count": 4,
   "metadata": {},
   "outputs": [
    {
     "name": "stdout",
     "output_type": "stream",
     "text": [
      "jeff\n"
     ]
    }
   ],
   "source": [
    "class Users():\n",
    "  def __init__(self, first_name, last_name, username):\n",
    "    self.first_name = first_name\n",
    "    self.last_name = last_name\n",
    "    self.username = username\n",
    "\n",
    "  def user_summary(self):\n",
    "    print(self.first_name + \" \" + self.last_name + \" , username:\" + self.username)\n",
    "\n",
    "  def greet_user(self):\n",
    "    print('Hello ' + self.first_name + \"!\")\n",
    "\n",
    "class SuperUser(Users):\n",
    "    pass\n",
    "\n",
    "admin_user = SuperUser('jeff', 'winger', 'wingman')\n",
    "print(admin_user.first_name)"
   ]
  },
  {
   "cell_type": "code",
   "execution_count": 8,
   "metadata": {},
   "outputs": [
    {
     "name": "stdout",
     "output_type": "stream",
     "text": [
      "\n",
      "Eric Matthes\n",
      "  Username: e_matthes\n",
      "  Email: e_matthes@example.com\n",
      "  Location: Alaska\n",
      "\n",
      "Privileges:\n",
      "- can reset passwords\n",
      "- can moderate discussions\n",
      "- can suspend accounts\n"
     ]
    }
   ],
   "source": [
    "class User():\n",
    "    \"\"\"Represent a simple user profile.\"\"\"\n",
    "\n",
    "    def __init__(self, first_name, last_name, username, email, location):\n",
    "        \"\"\"Initialize the user.\"\"\"\n",
    "        self.first_name = first_name.title()\n",
    "        self.last_name = last_name.title()\n",
    "        self.username = username\n",
    "        self.email = email\n",
    "        self.location = location.title()\n",
    "        self.login_attempts = 0\n",
    "\n",
    "    def describe_user(self):\n",
    "        \"\"\"Display a summary of the user's information.\"\"\"\n",
    "        print(\"\\n\" + self.first_name + \" \" + self.last_name)\n",
    "        print(\"  Username: \" + self.username)\n",
    "        print(\"  Email: \" + self.email)\n",
    "        print(\"  Location: \" + self.location)\n",
    "\n",
    "    def greet_user(self):\n",
    "        \"\"\"Display a personalized greeting to the user.\"\"\"\n",
    "        print(\"\\nWelcome back, \" + self.username + \"!\")\n",
    "\n",
    "    def increment_login_attempts(self):\n",
    "        \"\"\"Increment the value of login_attempts.\"\"\"\n",
    "        self.login_attempts += 1\n",
    "\n",
    "    def reset_login_attempts(self):\n",
    "        \"\"\"Reset login_attempts to 0.\"\"\"\n",
    "        self.login_attempts = 0\n",
    "\n",
    "\n",
    "class Admin(User):\n",
    "    \"\"\"A user with administrative privileges.\"\"\"\n",
    "\n",
    "    def __init__(self, first_name, last_name, username, email, location):\n",
    "        \"\"\"Initialize the admin.\"\"\"\n",
    "        super().__init__(first_name, last_name, username, email, location)\n",
    "        self.privileges = []\n",
    "\n",
    "    def show_privileges(self):\n",
    "        \"\"\"Display the privileges this administrator has.\"\"\"\n",
    "        print(\"\\nPrivileges:\")\n",
    "        for privilege in self.privileges:\n",
    "            print(\"- \" + privilege)\n",
    "\n",
    "\n",
    "eric = Admin('eric', 'matthes', 'e_matthes', 'e_matthes@example.com', 'alaska')\n",
    "eric.describe_user()\n",
    "\n",
    "eric.privileges = [\n",
    "    'can reset passwords',\n",
    "    'can moderate discussions',\n",
    "    'can suspend accounts',\n",
    "    ]\n",
    "\n",
    "eric.show_privileges()"
   ]
  },
  {
   "cell_type": "code",
   "execution_count": null,
   "metadata": {},
   "outputs": [],
   "source": []
  }
 ],
 "metadata": {
  "kernelspec": {
   "display_name": "Python 3",
   "language": "python",
   "name": "python3"
  },
  "language_info": {
   "codemirror_mode": {
    "name": "ipython",
    "version": 3
   },
   "file_extension": ".py",
   "mimetype": "text/x-python",
   "name": "python",
   "nbconvert_exporter": "python",
   "pygments_lexer": "ipython3",
   "version": "3.6.5"
  }
 },
 "nbformat": 4,
 "nbformat_minor": 2
}
