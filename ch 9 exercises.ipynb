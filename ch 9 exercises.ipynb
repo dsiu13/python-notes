{
 "cells": [
  {
   "cell_type": "code",
   "execution_count": 2,
   "metadata": {},
   "outputs": [
    {
     "name": "stdout",
     "output_type": "stream",
     "text": [
      "we are Taco Town specializing in Mexican food\n",
      "Taco Town is now open\n"
     ]
    }
   ],
   "source": [
    "class Restaurant():\n",
    "\n",
    "  def __init__(self, restaurant_name, cuisine_type):\n",
    "    self.restaurant_name = restaurant_name\n",
    "    self.cuisine_type = cuisine_type\n",
    "\n",
    "  def describe_restaurant(self):\n",
    "    print(\"we are \" + self.restaurant_name + \" specializing in \" + self.cuisine_type + \" food\")\n",
    "\n",
    "  def open_restaurant(self):\n",
    "    print(self.restaurant_name + \" is now open\")\n",
    "\n",
    "my_restaurant = Restaurant('Taco Town', 'Mexican')\n",
    "my_restaurant.describe_restaurant()\n",
    "my_restaurant.open_restaurant()"
   ]
  },
  {
   "cell_type": "code",
   "execution_count": 3,
   "metadata": {},
   "outputs": [
    {
     "name": "stdout",
     "output_type": "stream",
     "text": [
      "we are Taco Town specializing in Mexican food\n",
      "we are Dumpling House specializing in Chinese food\n",
      "we are Garden Fresh specializing in Vegan food\n"
     ]
    }
   ],
   "source": [
    "class Restaurant():\n",
    "\n",
    "  def __init__(self, restaurant_name, cuisine_type):\n",
    "    self.restaurant_name = restaurant_name\n",
    "    self.cuisine_type = cuisine_type\n",
    "\n",
    "  def describe_restaurant(self):\n",
    "    print(\"we are \" + self.restaurant_name + \" specializing in \" + self.cuisine_type + \" food\")\n",
    "\n",
    "  def open_restaurant(self):\n",
    "    print(self.restaurant_name + \" is now open\")\n",
    "\n",
    "taco_town = Restaurant('Taco Town', 'Mexican')\n",
    "dumpling_house = Restaurant('Dumpling House', 'Chinese')\n",
    "garden_fresh = Restaurant('Garden Fresh', 'Vegan')\n",
    "\n",
    "taco_town.describe_restaurant()\n",
    "dumpling_house.describe_restaurant()\n",
    "garden_fresh.describe_restaurant()"
   ]
  },
  {
   "cell_type": "code",
   "execution_count": 18,
   "metadata": {},
   "outputs": [
    {
     "name": "stdout",
     "output_type": "stream",
     "text": [
      "Jeff Winger , username:wingman\n",
      "Hello Jeff!\n",
      "Annie Eddison , username:aeddison\n",
      "Hello Annie!\n"
     ]
    }
   ],
   "source": [
    "class Users():\n",
    "  def __init__(self, first_name, last_name, username):\n",
    "    self.first_name = first_name\n",
    "    self.last_name = last_name\n",
    "    self.username = username\n",
    "\n",
    "  def user_summary(self):\n",
    "    print(self.first_name + \" \" + self.last_name + \" , username:\" + self.username)\n",
    "\n",
    "  def greet_user(self):\n",
    "    print('Hello ' + self.first_name + \"!\")\n",
    "\n",
    "jeff = Users('Jeff', 'Winger', \"wingman\")\n",
    "jeff.user_summary()\n",
    "jeff.greet_user()\n",
    "\n",
    "annie = Users('Annie', 'Eddison', 'aeddison')\n",
    "annie.user_summary()\n",
    "annie.greet_user() "
   ]
  },
  {
   "cell_type": "code",
   "execution_count": 20,
   "metadata": {},
   "outputs": [
    {
     "name": "stdout",
     "output_type": "stream",
     "text": [
      "2016 audi a4\n",
      "This car has 0 miles on it.\n"
     ]
    }
   ],
   "source": [
    "class Car():\n",
    "  def __init__(self, make, model, year):\n",
    "    self.make = make\n",
    "    self.model = model\n",
    "    self.year = year\n",
    "    self.odometer_reading = 0\n",
    "\n",
    "  def get_descript(self):\n",
    "    return str(self.year) + ' ' + self.make + ' ' + self.model\n",
    "\n",
    "  def read_odometer(self):\n",
    "    print(\"This car has \" + str(self.odometer_reading) + \" miles on it.\") \n",
    "\n",
    "my_new_car = Car('audi', 'a4', 2016) \n",
    "print(my_new_car.get_descript())\n",
    "my_new_car.read_odometer()"
   ]
  },
  {
   "cell_type": "code",
   "execution_count": 28,
   "metadata": {},
   "outputs": [
    {
     "name": "stdout",
     "output_type": "stream",
     "text": [
      "8\n"
     ]
    }
   ],
   "source": [
    "class Restaurant():\n",
    "\n",
    "  def __init__(self, restaurant_name, cuisine_type):\n",
    "    self.restaurant_name = restaurant_name\n",
    "    self.cuisine_type = cuisine_type\n",
    "    self.customers_served = 0\n",
    "\n",
    "  def describe_restaurant(self):\n",
    "    print(\"we are \" + self.restaurant_name + \" specializing in \" + self.cuisine_type + \" food\")\n",
    "\n",
    "  def open_restaurant(self):\n",
    "    print(self.restaurant_name + \" is now open\")\n",
    "\n",
    "  def update_served(self, served):\n",
    "    self.customers_served = served\n",
    "\n",
    "  def restaurant_stats(self):\n",
    "    print(str(self.customers_served))\n",
    "\n",
    "  def increment_served(self, customers):\n",
    "    self.customers_served += customers\n",
    "    \n",
    "my_restaurant = Restaurant('Garden Fresh', 'Vegan')\n",
    "my_restaurant.customers_served = 5\n",
    "my_restaurant.increment_served(3)\n",
    "my_restaurant.restaurant_stats()"
   ]
  },
  {
   "cell_type": "code",
   "execution_count": 3,
   "metadata": {},
   "outputs": [
    {
     "data": {
      "text/plain": [
       "'2016 Tesla model s'"
      ]
     },
     "execution_count": 3,
     "metadata": {},
     "output_type": "execute_result"
    }
   ],
   "source": [
    "class Car():\n",
    "\n",
    "  def __init__(self, make, model, year):\n",
    "    self.make = make\n",
    "    self.model = model\n",
    "    self.year = year\n",
    "    self.odometer_reading = 0\n",
    "\n",
    "  def get_descriptive_name(self):\n",
    "    return str(self.year) + ' ' + self.make + ' ' + self.model\n",
    "\n",
    "  def read_odometer(self):\n",
    "    print(str(self.odometer_reading))\n",
    "\n",
    "  def update_odometer(self, mileage):\n",
    "    if milage >= self.odometer_reading:\n",
    "      self.odometer_reading = mileage\n",
    "    else:\n",
    "      print('nope')\n",
    "\n",
    "\n",
    "  def increment_odometer(self, miles):\n",
    "      self.odometer_reading += miles\n",
    "\n",
    "class ElectricCar(Car):\n",
    "\n",
    "  def __init__(self, make, model, year):\n",
    "    super().__init__(make, model, year)\n",
    "\n",
    "my_telsa = ElectricCar('Tesla', 'model s', 2016)\n",
    "my_telsa.get_descriptive_name()"
   ]
  },
  {
   "cell_type": "code",
   "execution_count": 4,
   "metadata": {},
   "outputs": [
    {
     "name": "stdout",
     "output_type": "stream",
     "text": [
      "vanilla chocolate strawberry\n"
     ]
    }
   ],
   "source": [
    "class Restaurant():\n",
    "\n",
    "  def __init__(self, restaurant_name, cuisine_type):\n",
    "    self.restaurant_name = restaurant_name\n",
    "    self.cuisine_type = cuisine_type\n",
    "    self.customers_served = 0\n",
    "\n",
    "  def describe_restaurant(self):\n",
    "    print(\"we are \" + self.restaurant_name + \" specializing in \" + self.cuisine_type + \" food\")\n",
    "\n",
    "  def open_restaurant(self):\n",
    "    print(self.restaurant_name + \" is now open\")\n",
    "\n",
    "  def update_served(self, served):\n",
    "    self.customers_served = served\n",
    "\n",
    "  def restaurant_stats(self):\n",
    "    print(str(self.customers_served))\n",
    "\n",
    "  def increment_served(self, customers):\n",
    "    self.customers_served += customers\n",
    "\n",
    "class iceCreamStand(Restaurant):\n",
    "  def __init__(self, restaurant_name, cuisine_type):\n",
    "    super().__init__(self, restaurant_name, cuisine_type)\n",
    "\n",
    "  def flavors():\n",
    "    print('vanilla', 'chocolate', 'strawberry')\n",
    "\n",
    "iceCreamStand.flavors()"
   ]
  },
  {
   "cell_type": "code",
   "execution_count": 14,
   "metadata": {},
   "outputs": [
    {
     "ename": "TypeError",
     "evalue": "__init__() takes 4 positional arguments but 5 were given",
     "output_type": "error",
     "traceback": [
      "\u001b[0;31m---------------------------------------------------------------------------\u001b[0m",
      "\u001b[0;31mTypeError\u001b[0m                                 Traceback (most recent call last)",
      "\u001b[0;32m<ipython-input-14-b3fd4507a84f>\u001b[0m in \u001b[0;36m<module>\u001b[0;34m()\u001b[0m\n\u001b[1;32m     19\u001b[0m       \u001b[0mprint\u001b[0m\u001b[0;34m(\u001b[0m\u001b[0mself\u001b[0m\u001b[0;34m.\u001b[0m\u001b[0mprivileges\u001b[0m\u001b[0;34m)\u001b[0m\u001b[0;34m\u001b[0m\u001b[0m\n\u001b[1;32m     20\u001b[0m \u001b[0;34m\u001b[0m\u001b[0m\n\u001b[0;32m---> 21\u001b[0;31m \u001b[0mmy_admin\u001b[0m \u001b[0;34m=\u001b[0m \u001b[0mAdmin\u001b[0m\u001b[0;34m(\u001b[0m\u001b[0;34m'jeff'\u001b[0m\u001b[0;34m,\u001b[0m \u001b[0;34m'winger'\u001b[0m\u001b[0;34m,\u001b[0m \u001b[0;34m'wingman'\u001b[0m\u001b[0;34m)\u001b[0m\u001b[0;34m\u001b[0m\u001b[0m\n\u001b[0m\u001b[1;32m     22\u001b[0m \u001b[0mprint\u001b[0m\u001b[0;34m(\u001b[0m\u001b[0mmy_admin\u001b[0m\u001b[0;34m)\u001b[0m\u001b[0;34m\u001b[0m\u001b[0m\n",
      "\u001b[0;32m<ipython-input-14-b3fd4507a84f>\u001b[0m in \u001b[0;36m__init__\u001b[0;34m(self, first_name, last_name, username)\u001b[0m\n\u001b[1;32m     13\u001b[0m \u001b[0;32mclass\u001b[0m \u001b[0mAdmin\u001b[0m\u001b[0;34m(\u001b[0m\u001b[0mUsers\u001b[0m\u001b[0;34m)\u001b[0m\u001b[0;34m:\u001b[0m\u001b[0;34m\u001b[0m\u001b[0m\n\u001b[1;32m     14\u001b[0m   \u001b[0;32mdef\u001b[0m \u001b[0m__init__\u001b[0m\u001b[0;34m(\u001b[0m\u001b[0mself\u001b[0m\u001b[0;34m,\u001b[0m \u001b[0mfirst_name\u001b[0m\u001b[0;34m,\u001b[0m \u001b[0mlast_name\u001b[0m\u001b[0;34m,\u001b[0m \u001b[0musername\u001b[0m\u001b[0;34m)\u001b[0m\u001b[0;34m:\u001b[0m\u001b[0;34m\u001b[0m\u001b[0m\n\u001b[0;32m---> 15\u001b[0;31m     \u001b[0msuper\u001b[0m\u001b[0;34m(\u001b[0m\u001b[0;34m)\u001b[0m\u001b[0;34m.\u001b[0m\u001b[0m__init__\u001b[0m\u001b[0;34m(\u001b[0m\u001b[0mself\u001b[0m\u001b[0;34m,\u001b[0m \u001b[0mfirst_name\u001b[0m\u001b[0;34m,\u001b[0m \u001b[0mlast_name\u001b[0m\u001b[0;34m,\u001b[0m \u001b[0musername\u001b[0m\u001b[0;34m)\u001b[0m\u001b[0;34m\u001b[0m\u001b[0m\n\u001b[0m\u001b[1;32m     16\u001b[0m     \u001b[0mself\u001b[0m\u001b[0;34m.\u001b[0m\u001b[0mprivileges\u001b[0m \u001b[0;34m=\u001b[0m \u001b[0;34m[\u001b[0m\u001b[0;34m'ban'\u001b[0m\u001b[0;34m,\u001b[0m \u001b[0;34m'del'\u001b[0m\u001b[0;34m,\u001b[0m \u001b[0;34m'post'\u001b[0m\u001b[0;34m]\u001b[0m\u001b[0;34m\u001b[0m\u001b[0m\n\u001b[1;32m     17\u001b[0m \u001b[0;34m\u001b[0m\u001b[0m\n",
      "\u001b[0;31mTypeError\u001b[0m: __init__() takes 4 positional arguments but 5 were given"
     ]
    }
   ],
   "source": [
    "class Users():\n",
    "  def __init__(self, first_name, last_name, username):\n",
    "    self.first_name = first_name\n",
    "    self.last_name = last_name\n",
    "    self.username = username\n",
    "\n",
    "  def user_summary(self):\n",
    "    print(self.first_name + \" \" + self.last_name + \" , username:\" + self.username)\n",
    "\n",
    "  def greet_user(self):\n",
    "    print('Hello ' + self.first_name + \"!\")\n",
    "\n",
    "class Admin(Users):\n",
    "  def __init__(self, first_name, last_name, username):\n",
    "    super().__init__(self, first_name, last_name, username)\n",
    "    self.privileges = ['ban', 'del', 'post']\n",
    "\n",
    "  def admin_powers(self):\n",
    "      print(self.privileges)\n",
    "\n",
    "my_admin = Admin('jeff', 'winger', 'wingman')\n",
    "print(my_admin)"
   ]
  },
  {
   "cell_type": "code",
   "execution_count": null,
   "metadata": {},
   "outputs": [],
   "source": []
  }
 ],
 "metadata": {
  "kernelspec": {
   "display_name": "Python 3",
   "language": "python",
   "name": "python3"
  },
  "language_info": {
   "codemirror_mode": {
    "name": "ipython",
    "version": 3
   },
   "file_extension": ".py",
   "mimetype": "text/x-python",
   "name": "python",
   "nbconvert_exporter": "python",
   "pygments_lexer": "ipython3",
   "version": "3.6.5"
  }
 },
 "nbformat": 4,
 "nbformat_minor": 2
}
