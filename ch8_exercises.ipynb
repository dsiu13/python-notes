{
 "cells": [
  {
   "cell_type": "code",
   "execution_count": 2,
   "metadata": {},
   "outputs": [
    {
     "data": {
      "text/plain": [
       "{'artist_name': 'hi', 'cd_name': 'hello', 'year': '2018'}"
      ]
     },
     "execution_count": 2,
     "metadata": {},
     "output_type": "execute_result"
    }
   ],
   "source": [
    "def album(artist, cd, yr):\n",
    "  cd = {\n",
    "    'artist_name': artist,\n",
    "    'cd_name': cd,\n",
    "    'year': yr\n",
    "  }\n",
    "  return cd\n",
    "\n",
    "album('hi', 'hello', '2018')"
   ]
  },
  {
   "cell_type": "code",
   "execution_count": 4,
   "metadata": {},
   "outputs": [
    {
     "data": {
      "text/plain": [
       "{'artist_name': 'hi', 'cd_name': 'hello', 'year': '2018', 'track_count': ''}"
      ]
     },
     "execution_count": 4,
     "metadata": {},
     "output_type": "execute_result"
    }
   ],
   "source": [
    "def album(artist, cd, yr, tracks=''):\n",
    "  cd = {\n",
    "    'artist_name': artist,\n",
    "    'cd_name': cd,\n",
    "    'year': yr,\n",
    "    'track_count': tracks\n",
    "  }\n",
    "  return cd\n",
    "\n",
    "album('hi', 'hello', '2018')"
   ]
  },
  {
   "cell_type": "code",
   "execution_count": 5,
   "metadata": {},
   "outputs": [
    {
     "name": "stdout",
     "output_type": "stream",
     "text": [
      "Hello Jeff\n",
      "Hello Annie\n",
      "Hello Abed\n"
     ]
    }
   ],
   "source": [
    "def hello(names):\n",
    "  for name in names:\n",
    "    msg = \"Hello \" + name.title()\n",
    "    print(msg)\n",
    "\n",
    "usernames = ['jeff', 'annie', 'abed']\n",
    "hello(usernames)"
   ]
  },
  {
   "cell_type": "code",
   "execution_count": 6,
   "metadata": {},
   "outputs": [
    {
     "name": "stdout",
     "output_type": "stream",
     "text": [
      "3DS printed\n",
      "tiny robot printed\n",
      "d20 printed\n",
      "['3DS', 'tiny robot', 'd20']\n",
      "['3DS', 'tiny robot', 'd20']\n",
      "['3DS', 'tiny robot', 'd20']\n"
     ]
    }
   ],
   "source": [
    "unprinted = ['d20', 'tiny robot', '3DS']\n",
    "completed = []\n",
    "\n",
    "while unprinted:\n",
    "  current_designs = unprinted.pop()\n",
    "  print(current_designs + \" printed\")\n",
    "  completed.append(current_designs)\n",
    "\n",
    "for complete in completed:\n",
    "  print(completed)"
   ]
  },
  {
   "cell_type": "code",
   "execution_count": 8,
   "metadata": {},
   "outputs": [
    {
     "name": "stdout",
     "output_type": "stream",
     "text": [
      "harry\n",
      "hermione\n",
      "ron\n"
     ]
    }
   ],
   "source": [
    "wizards = ['harry', 'hermione', 'ron']\n",
    "\n",
    "def you_are_a_wizard_harry(names):\n",
    "  for name in names:\n",
    "      print(name)\n",
    "\n",
    "you_are_a_wizard_harry(wizards)"
   ]
  },
  {
   "cell_type": "code",
   "execution_count": null,
   "metadata": {},
   "outputs": [],
   "source": []
  }
 ],
 "metadata": {
  "kernelspec": {
   "display_name": "Python 3",
   "language": "python",
   "name": "python3"
  },
  "language_info": {
   "codemirror_mode": {
    "name": "ipython",
    "version": 3
   },
   "file_extension": ".py",
   "mimetype": "text/x-python",
   "name": "python",
   "nbconvert_exporter": "python",
   "pygments_lexer": "ipython3",
   "version": "3.6.5"
  }
 },
 "nbformat": 4,
 "nbformat_minor": 2
}
