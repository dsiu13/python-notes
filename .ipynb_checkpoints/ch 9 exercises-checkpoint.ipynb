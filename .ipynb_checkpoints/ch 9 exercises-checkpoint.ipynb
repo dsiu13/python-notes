{
 "cells": [
  {
   "cell_type": "code",
   "execution_count": 2,
   "metadata": {},
   "outputs": [
    {
     "name": "stdout",
     "output_type": "stream",
     "text": [
      "we are Taco Town specializing in Mexican food\n",
      "Taco Town is now open\n"
     ]
    }
   ],
   "source": [
    "class Restaurant():\n",
    "\n",
    "  def __init__(self, restaurant_name, cuisine_type):\n",
    "    self.restaurant_name = restaurant_name\n",
    "    self.cuisine_type = cuisine_type\n",
    "\n",
    "  def describe_restaurant(self):\n",
    "    print(\"we are \" + self.restaurant_name + \" specializing in \" + self.cuisine_type + \" food\")\n",
    "\n",
    "  def open_restaurant(self):\n",
    "    print(self.restaurant_name + \" is now open\")\n",
    "\n",
    "my_restaurant = Restaurant('Taco Town', 'Mexican')\n",
    "my_restaurant.describe_restaurant()\n",
    "my_restaurant.open_restaurant()"
   ]
  },
  {
   "cell_type": "code",
   "execution_count": 3,
   "metadata": {},
   "outputs": [
    {
     "name": "stdout",
     "output_type": "stream",
     "text": [
      "we are Taco Town specializing in Mexican food\n",
      "we are Dumpling House specializing in Chinese food\n",
      "we are Garden Fresh specializing in Vegan food\n"
     ]
    }
   ],
   "source": [
    "class Restaurant():\n",
    "\n",
    "  def __init__(self, restaurant_name, cuisine_type):\n",
    "    self.restaurant_name = restaurant_name\n",
    "    self.cuisine_type = cuisine_type\n",
    "\n",
    "  def describe_restaurant(self):\n",
    "    print(\"we are \" + self.restaurant_name + \" specializing in \" + self.cuisine_type + \" food\")\n",
    "\n",
    "  def open_restaurant(self):\n",
    "    print(self.restaurant_name + \" is now open\")\n",
    "\n",
    "taco_town = Restaurant('Taco Town', 'Mexican')\n",
    "dumpling_house = Restaurant('Dumpling House', 'Chinese')\n",
    "garden_fresh = Restaurant('Garden Fresh', 'Vegan')\n",
    "\n",
    "taco_town.describe_restaurant()\n",
    "dumpling_house.describe_restaurant()\n",
    "garden_fresh.describe_restaurant()"
   ]
  },
  {
   "cell_type": "code",
   "execution_count": 7,
   "metadata": {},
   "outputs": [
    {
     "ename": "NameError",
     "evalue": "name 'dob' is not defined",
     "output_type": "error",
     "traceback": [
      "\u001b[0;31m---------------------------------------------------------------------------\u001b[0m",
      "\u001b[0;31mNameError\u001b[0m                                 Traceback (most recent call last)",
      "\u001b[0;32m<ipython-input-7-59d5d9961113>\u001b[0m in \u001b[0;36m<module>\u001b[0;34m()\u001b[0m\n\u001b[1;32m     14\u001b[0m     \u001b[0mprint\u001b[0m\u001b[0;34m(\u001b[0m\u001b[0;34m'Hello! '\u001b[0m \u001b[0;34m+\u001b[0m \u001b[0mfull_name\u001b[0m\u001b[0;34m)\u001b[0m\u001b[0;34m\u001b[0m\u001b[0m\n\u001b[1;32m     15\u001b[0m \u001b[0;34m\u001b[0m\u001b[0m\n\u001b[0;32m---> 16\u001b[0;31m \u001b[0mjeff\u001b[0m \u001b[0;34m=\u001b[0m \u001b[0mUsers\u001b[0m\u001b[0;34m(\u001b[0m\u001b[0;34m'Jeff'\u001b[0m\u001b[0;34m,\u001b[0m \u001b[0;34m'Winger'\u001b[0m\u001b[0;34m,\u001b[0m \u001b[0;34m\"wingman\"\u001b[0m\u001b[0;34m)\u001b[0m\u001b[0;34m\u001b[0m\u001b[0m\n\u001b[0m",
      "\u001b[0;32m<ipython-input-7-59d5d9961113>\u001b[0m in \u001b[0;36m__init__\u001b[0;34m(self, first_name, last_name, username)\u001b[0m\n\u001b[1;32m      3\u001b[0m     \u001b[0mself\u001b[0m\u001b[0;34m.\u001b[0m\u001b[0mfirst_name\u001b[0m \u001b[0;34m=\u001b[0m \u001b[0mfirst_name\u001b[0m\u001b[0;34m\u001b[0m\u001b[0m\n\u001b[1;32m      4\u001b[0m     \u001b[0mself\u001b[0m\u001b[0;34m.\u001b[0m\u001b[0mlast_name\u001b[0m \u001b[0;34m=\u001b[0m \u001b[0mlast_name\u001b[0m\u001b[0;34m\u001b[0m\u001b[0m\n\u001b[0;32m----> 5\u001b[0;31m     \u001b[0mself\u001b[0m\u001b[0;34m.\u001b[0m\u001b[0mdob\u001b[0m \u001b[0;34m=\u001b[0m \u001b[0mdob\u001b[0m\u001b[0;34m\u001b[0m\u001b[0m\n\u001b[0m\u001b[1;32m      6\u001b[0m     \u001b[0mself\u001b[0m\u001b[0;34m.\u001b[0m\u001b[0mfav_color\u001b[0m \u001b[0;34m=\u001b[0m \u001b[0mfav_color\u001b[0m\u001b[0;34m\u001b[0m\u001b[0m\n\u001b[1;32m      7\u001b[0m     \u001b[0mself\u001b[0m\u001b[0;34m.\u001b[0m\u001b[0musername\u001b[0m \u001b[0;34m=\u001b[0m \u001b[0musername\u001b[0m\u001b[0;34m\u001b[0m\u001b[0m\n",
      "\u001b[0;31mNameError\u001b[0m: name 'dob' is not defined"
     ]
    }
   ],
   "source": [
    "class Users():\n",
    "  def __init__(self, first_name, last_name, username):\n",
    "    self.first_name = first_name\n",
    "    self.last_name = last_name\n",
    "    self.username = username\n",
    " \n",
    "  def user_summary(self):\n",
    "    full_name = self.first_name + \" \" + self.last_name\n",
    "    print(full_name + \" , username:\" + self.username)\n",
    "\n",
    "  def greet_user(self):\n",
    "    print('Hello! ' + full_name)\n",
    "\n",
    "jeff = Users('Jeff', 'Winger', \"wingman\")"
   ]
  },
  {
   "cell_type": "code",
   "execution_count": null,
   "metadata": {},
   "outputs": [],
   "source": []
  }
 ],
 "metadata": {
  "kernelspec": {
   "display_name": "Python 3",
   "language": "python",
   "name": "python3"
  },
  "language_info": {
   "codemirror_mode": {
    "name": "ipython",
    "version": 3
   },
   "file_extension": ".py",
   "mimetype": "text/x-python",
   "name": "python",
   "nbconvert_exporter": "python",
   "pygments_lexer": "ipython3",
   "version": "3.6.5"
  }
 },
 "nbformat": 4,
 "nbformat_minor": 2
}
